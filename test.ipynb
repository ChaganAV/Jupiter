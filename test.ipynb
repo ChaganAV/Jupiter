{
 "cells": [
  {
   "cell_type": "code",
   "execution_count": 32,
   "metadata": {},
   "outputs": [
    {
     "ename": "UnboundLocalError",
     "evalue": "local variable 'res' referenced before assignment",
     "output_type": "error",
     "traceback": [
      "\u001b[1;31m---------------------------------------------------------------------------\u001b[0m",
      "\u001b[1;31mUnboundLocalError\u001b[0m                         Traceback (most recent call last)",
      "Cell \u001b[1;32mIn[32], line 9\u001b[0m\n\u001b[0;32m      6\u001b[0m     \u001b[39mreturn\u001b[39;00m res\n\u001b[0;32m      8\u001b[0m x \u001b[39m=\u001b[39m [x\u001b[39m/\u001b[39m\u001b[39m100\u001b[39m \u001b[39mfor\u001b[39;00m x \u001b[39min\u001b[39;00m \u001b[39mrange\u001b[39m(\u001b[39m-\u001b[39m\u001b[39m1000\u001b[39m,\u001b[39m1000\u001b[39m)]\n\u001b[1;32m----> 9\u001b[0m y \u001b[39m=\u001b[39m [f(k) \u001b[39mfor\u001b[39;00m k \u001b[39min\u001b[39;00m x]\n\u001b[0;32m     11\u001b[0m plt\u001b[39m.\u001b[39mplot(x,y)\n",
      "Cell \u001b[1;32mIn[32], line 9\u001b[0m, in \u001b[0;36m<listcomp>\u001b[1;34m(.0)\u001b[0m\n\u001b[0;32m      6\u001b[0m     \u001b[39mreturn\u001b[39;00m res\n\u001b[0;32m      8\u001b[0m x \u001b[39m=\u001b[39m [x\u001b[39m/\u001b[39m\u001b[39m100\u001b[39m \u001b[39mfor\u001b[39;00m x \u001b[39min\u001b[39;00m \u001b[39mrange\u001b[39m(\u001b[39m-\u001b[39m\u001b[39m1000\u001b[39m,\u001b[39m1000\u001b[39m)]\n\u001b[1;32m----> 9\u001b[0m y \u001b[39m=\u001b[39m [f(k) \u001b[39mfor\u001b[39;00m k \u001b[39min\u001b[39;00m x]\n\u001b[0;32m     11\u001b[0m plt\u001b[39m.\u001b[39mplot(x,y)\n",
      "Cell \u001b[1;32mIn[32], line 6\u001b[0m, in \u001b[0;36mf\u001b[1;34m(x)\u001b[0m\n\u001b[0;32m      4\u001b[0m \u001b[39mif\u001b[39;00m x\u001b[39m!=\u001b[39m\u001b[39m0\u001b[39m:\n\u001b[0;32m      5\u001b[0m     res \u001b[39m=\u001b[39m \u001b[39m1\u001b[39m\u001b[39m/\u001b[39mx\n\u001b[1;32m----> 6\u001b[0m \u001b[39mreturn\u001b[39;00m res\n",
      "\u001b[1;31mUnboundLocalError\u001b[0m: local variable 'res' referenced before assignment"
     ]
    }
   ],
   "source": [
    "from matplotlib import pyplot as plt\n",
    "import math \n",
    "def f(x)->float:\n",
    "    res = 0\n",
    "    if x!=0:\n",
    "        res = 1/x\n",
    "    return res\n",
    "\n",
    "x = [x/100 for x in range(-1000,1000)]\n",
    "y = [f(k) for k in x]\n",
    "\n",
    "plt.plot(x,y)"
   ]
  }
 ],
 "metadata": {
  "kernelspec": {
   "display_name": "Python 3",
   "language": "python",
   "name": "python3"
  },
  "language_info": {
   "codemirror_mode": {
    "name": "ipython",
    "version": 3
   },
   "file_extension": ".py",
   "mimetype": "text/x-python",
   "name": "python",
   "nbconvert_exporter": "python",
   "pygments_lexer": "ipython3",
   "version": "3.10.9"
  },
  "orig_nbformat": 4,
  "vscode": {
   "interpreter": {
    "hash": "5b1171857719c697f7c1081b1bf6b02a151858374245b8fd37cff08661b44b75"
   }
  }
 },
 "nbformat": 4,
 "nbformat_minor": 2
}
