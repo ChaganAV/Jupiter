{
 "cells": [
  {
   "cell_type": "code",
   "execution_count": 42,
   "metadata": {},
   "outputs": [
    {
     "ename": "TypeError",
     "evalue": "can't multiply sequence by non-int of type 'list'",
     "output_type": "error",
     "traceback": [
      "\u001b[1;31m---------------------------------------------------------------------------\u001b[0m",
      "\u001b[1;31mTypeError\u001b[0m                                 Traceback (most recent call last)",
      "Cell \u001b[1;32mIn[42], line 7\u001b[0m\n\u001b[0;32m      5\u001b[0m     \u001b[39mreturn\u001b[39;00m x\u001b[39m*\u001b[39mx\n\u001b[0;32m      6\u001b[0m x \u001b[39m=\u001b[39m [x \u001b[39mfor\u001b[39;00m x \u001b[39min\u001b[39;00m \u001b[39mrange\u001b[39m(\u001b[39m-\u001b[39m\u001b[39m10\u001b[39m,\u001b[39m10\u001b[39m)]  \n\u001b[1;32m----> 7\u001b[0m y \u001b[39m=\u001b[39m f(x)  \n\u001b[0;32m      8\u001b[0m plot(x,y)\n",
      "Cell \u001b[1;32mIn[42], line 5\u001b[0m, in \u001b[0;36mf\u001b[1;34m(x)\u001b[0m\n\u001b[0;32m      4\u001b[0m \u001b[39mdef\u001b[39;00m \u001b[39mf\u001b[39m(x):\n\u001b[1;32m----> 5\u001b[0m     \u001b[39mreturn\u001b[39;00m x\u001b[39m*\u001b[39;49mx\n",
      "\u001b[1;31mTypeError\u001b[0m: can't multiply sequence by non-int of type 'list'"
     ]
    }
   ],
   "source": [
    "from sympy import *\n",
    "from sympy.plotting import plot\n",
    "\n",
    "def f(x):\n",
    "    return x*x\n",
    "x = [x for x in range(-10,10)]  \n",
    "y = f(x)  \n",
    "plot(x,y)"
   ]
  }
 ],
 "metadata": {
  "kernelspec": {
   "display_name": "Python 3",
   "language": "python",
   "name": "python3"
  },
  "language_info": {
   "codemirror_mode": {
    "name": "ipython",
    "version": 3
   },
   "file_extension": ".py",
   "mimetype": "text/x-python",
   "name": "python",
   "nbconvert_exporter": "python",
   "pygments_lexer": "ipython3",
   "version": "3.10.9"
  },
  "orig_nbformat": 4,
  "vscode": {
   "interpreter": {
    "hash": "5b1171857719c697f7c1081b1bf6b02a151858374245b8fd37cff08661b44b75"
   }
  }
 },
 "nbformat": 4,
 "nbformat_minor": 2
}
